{
 "cells": [
  {
   "cell_type": "code",
   "execution_count": 1,
   "id": "9cdbd5bb",
   "metadata": {},
   "outputs": [],
   "source": [
    "import numpy as np\n",
    "from sklearn.calibration import calibration_curve"
   ]
  },
  {
   "cell_type": "code",
   "execution_count": 2,
   "id": "80269a5b",
   "metadata": {},
   "outputs": [
    {
     "data": {
      "text/plain": [
       "array([0. , 0.5, 1. ])"
      ]
     },
     "execution_count": 2,
     "metadata": {},
     "output_type": "execute_result"
    }
   ],
   "source": [
    "y_true = np.array([0, 0, 0, 0, 1, 1, 1, 1, 1])\n",
    "y_pred = np.array([0.1, 0.2, 0.3, 0.4, 0.65, 0.7, 0.8, 0.9,  1.])\n",
    "prob_true, prob_pred = calibration_curve(y_true, y_pred, n_bins=3)\n",
    "prob_true"
   ]
  },
  {
   "cell_type": "code",
   "execution_count": 3,
   "id": "35e14832",
   "metadata": {},
   "outputs": [
    {
     "data": {
      "text/plain": [
       "array([0.2  , 0.525, 0.85 ])"
      ]
     },
     "execution_count": 3,
     "metadata": {},
     "output_type": "execute_result"
    }
   ],
   "source": [
    "prob_pred"
   ]
  },
  {
   "cell_type": "code",
   "execution_count": null,
   "id": "9a1cdd4d",
   "metadata": {},
   "outputs": [],
   "source": []
  }
 ],
 "metadata": {
  "kernelspec": {
   "display_name": "Python 3 (ipykernel)",
   "language": "python",
   "name": "python3"
  },
  "language_info": {
   "codemirror_mode": {
    "name": "ipython",
    "version": 3
   },
   "file_extension": ".py",
   "mimetype": "text/x-python",
   "name": "python",
   "nbconvert_exporter": "python",
   "pygments_lexer": "ipython3",
   "version": "3.10.5"
  }
 },
 "nbformat": 4,
 "nbformat_minor": 5
}
